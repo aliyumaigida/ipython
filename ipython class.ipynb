{
 "cells": [
  {
   "cell_type": "markdown",
   "metadata": {},
   "source": [
    "# What is IPython\n",
    "IPython (short for Interactive Python) is an enhanced Python interprete. IPython is about using Python effectively for interactive scientific and data-intensive computing.\n",
    "There are two primary means of using IPython that we’ll discuss: the IPython shell and the IPython notebook. \n",
    "\n",
    "# Launching the IPython Shell\n",
    "Start by launching the IPython interpreter by typing \"ipython\" on the command line; alternatively, if you’ve installed a distribution like Anaconda or EPD, there may be a launcher specific to your system\n",
    "\n",
    "# Launching the Jupyter Notebook\n",
    "The Jupyter notebook is a browser-based graphical interface to the IPython shell, and builds on it a rich set of dynamic display capabilities. As well as executing Python/IPython statements, the notebook allows the user to include formatted text, static and dynamic visualizations, mathematical equations, JavaScript widgets, and much more.\n",
    "Furthermore, these documents can be saved in a way that lets other people open them and execute the code on their own systems.\n",
    "To start jupyter notebook run the following command in your system shell:\n",
    "$ jupyter notebook\n",
    "This command will launch a local web server that will be visible to your browser. It\n",
    "immediately spits out a log showing what it is doing;"
   ]
  },
  {
   "cell_type": "markdown",
   "metadata": {},
   "source": [
    "# Accessing Documentation with ?\n",
    "The Python language and its data science ecosystem are built with the user in mind, and one big part of that is access to documentation. Every Python object contains the reference to a string, known as a docstring, which in most cases will contain a concise\n",
    "summary of the object and how to use it. Python has a built-in help() function that\n",
    "can access this information and print the results. "
   ]
  },
  {
   "cell_type": "code",
   "execution_count": null,
   "metadata": {},
   "outputs": [
    {
     "name": "stdout",
     "output_type": "stream",
     "text": [
      "Help on built-in function len in module builtins:\n",
      "\n",
      "len(obj, /)\n",
      "    Return the number of items in a container.\n",
      "\n"
     ]
    }
   ],
   "source": [
    "help(len)"
   ]
  },
  {
   "cell_type": "code",
   "execution_count": 2,
   "metadata": {},
   "outputs": [],
   "source": [
    "# Because finding help on an object is so common and useful, IPython introduces the ? character as a shorthand for\n",
    "# accessing this documentation and other relevant information:\n",
    "len?"
   ]
  },
  {
   "cell_type": "code",
   "execution_count": 5,
   "metadata": {},
   "outputs": [],
   "source": [
    "# This notation works for just about anything, including object methods:\n",
    "L = [1,2,3,4,5,6,7,8,9]\n",
    "L.insert?"
   ]
  },
  {
   "cell_type": "code",
   "execution_count": 7,
   "metadata": {},
   "outputs": [],
   "source": [
    "# or even objects themselves, with the documentation from their type:\n",
    "L?"
   ]
  },
  {
   "cell_type": "code",
   "execution_count": 8,
   "metadata": {},
   "outputs": [],
   "source": [
    "# Importantly, this will even work for functions or other objects you create yourself!\n",
    "# Here we’ll define a small function with a docstring:\n",
    "def square(a):\n",
    "    \"\"\"Return the square of a.\"\"\"\n",
    "    return a ** 2"
   ]
  },
  {
   "cell_type": "code",
   "execution_count": null,
   "metadata": {},
   "outputs": [],
   "source": [
    "# Now we’ll use the ? mark to find this docstring:\n",
    "square?"
   ]
  },
  {
   "cell_type": "markdown",
   "metadata": {},
   "source": [
    "# Accessing Source Code with ??\n",
    "Because the Python language is so easily readable, you can usually gain another level\n",
    "of insight by reading the source code of the object you’re curious about. IPython pro‐\n",
    "vides a shortcut to the source code with the double question mark (??)"
   ]
  },
  {
   "cell_type": "code",
   "execution_count": 11,
   "metadata": {},
   "outputs": [],
   "source": [
    "square??"
   ]
  },
  {
   "cell_type": "markdown",
   "metadata": {},
   "source": [
    "# Exploring Modules with Tab Completion\n",
    "IPython’s other useful interface is the use of the Tab key for autocompletion and\n",
    "exploration of the contents of objects, modules, and namespaces. "
   ]
  },
  {
   "cell_type": "code",
   "execution_count": 15,
   "metadata": {},
   "outputs": [],
   "source": [
    "# L.<TAB>"
   ]
  },
  {
   "cell_type": "code",
   "execution_count": 16,
   "metadata": {},
   "outputs": [],
   "source": [
    "# To narrow down the list, you can type the first character or several characters of the\n",
    "# name, and the Tab key will find the matching attributes and methods:\n",
    "# L.c<TAB>\n",
    "# L.co<TAB>"
   ]
  },
  {
   "cell_type": "code",
   "execution_count": 17,
   "metadata": {},
   "outputs": [],
   "source": [
    "# If there is only a single option, pressing the Tab key will complete the line for you. \n",
    "# L.cou<TAB>"
   ]
  },
  {
   "cell_type": "code",
   "execution_count": 18,
   "metadata": {},
   "outputs": [],
   "source": [
    "# private methods and special methods are omitted from the list by default, but it’s possible to list them by \n",
    "# explicitly typing the underscore:\n",
    "# L._<TAB>"
   ]
  },
  {
   "cell_type": "code",
   "execution_count": 20,
   "metadata": {},
   "outputs": [],
   "source": [
    "# Tab completion when importing Tab completion is also useful when importing objects from packages. Here we’ll use it\n",
    "# to find all possible imports in the itertools package that start with co:\n",
    "# from itertools import co<TAB>"
   ]
  },
  {
   "cell_type": "code",
   "execution_count": 23,
   "metadata": {},
   "outputs": [],
   "source": [
    "# Similarly, you can use tab completion to see which imports are available on your system\n",
    "# import <TAB>\n",
    "# import h<TAB>"
   ]
  },
  {
   "cell_type": "code",
   "execution_count": 24,
   "metadata": {},
   "outputs": [],
   "source": [
    "#  IPython provides a means of wildcard matching for names using the * character.\n",
    "# For example, we can use this to list every object in the namespace that ends with Warning:\n",
    "*Warning?"
   ]
  },
  {
   "cell_type": "code",
   "execution_count": 25,
   "metadata": {},
   "outputs": [],
   "source": [
    "# Similarly, suppose we are looking for a string method that contains the word find\n",
    "# somewhere in its name. We can search for it this way\n",
    "str.*find*?"
   ]
  },
  {
   "cell_type": "markdown",
   "metadata": {},
   "source": [
    "# Keyboard Shortcuts in the IPython Shell\n",
    "IPython provide a number of keyboard shortcuts for fast navigation while you’re typing commands. \n",
    "\n",
    "# Navigation Shortcuts\n",
    "\n",
    "Keystroke    Action\n",
    "\n",
    "Ctrl-a       Move cursor to the beginning of the line\n",
    "\n",
    "Ctrl-e       Move cursor to the end of the line\n",
    "\n",
    "Ctrl-b       (or the left arrow key) Move cursor back one character\n",
    "\n",
    "Ctrl-f       (or the right arrow key) Move cursor forward one character\n",
    "# Text Entry Shortcuts\n",
    "\n",
    "Keystroke      Action\n",
    "\n",
    "Backspace key  Delete previous character in line\n",
    "\n",
    "Ctrl-d         Delete next character in line\n",
    "\n",
    "Ctrl-k         Cut text from cursor to end of line\n",
    "\n",
    "Ctrl-u         Cut text from beginning fo line to cursor\n",
    "\n",
    "Ctrl-y         Yank (i.e., paste) text that was previously cut\n",
    "\n",
    "Ctrl-t         Transpose (i.e., switch) previous two characters\n",
    "# Command History Shortcuts\n",
    "\n",
    "Keystroke      Action\n",
    "\n",
    "#Ctrl-p         (or the up arrow key) Access previous command in history\n",
    "\n",
    "#Ctrl-n         (or the down arrow key) Access next command in history\n",
    "\n",
    "#Ctrl-r         Reverse-search through command history\n",
    "# Miscellaneous Shortcuts\n",
    "\n",
    "Finally, there are a few miscellaneous shortcuts that don’t fit into any of the preceding\n",
    "categories, but are nevertheless useful to know:\n",
    "#Keystroke      Action\n",
    "\n",
    "\n",
    "Ctrl-l         Clear terminal screen\n",
    "\n",
    "Ctrl-c         Interrupt current Python command\n",
    "\n",
    "Ctrl-d         Exit IPython session"
   ]
  },
  {
   "cell_type": "code",
   "execution_count": 26,
   "metadata": {},
   "outputs": [],
   "source": [
    "# The reverse-search can be particularly useful. Recall that in the previous section we\n",
    "# defined a function called square. Let’s reverse-search our Python history from a new\n",
    "# IPython shell and find this definition again. When you press Ctrl-r in the IPython\n",
    "# terminal, you’ll see the following prompt:\n",
    "# (reverse-i-search)\n",
    "# If you start typing characters at this prompt, IPython will auto-fill the most recent\n",
    "# command, if any, that matches those characters:"
   ]
  },
  {
   "cell_type": "markdown",
   "metadata": {},
   "source": [
    "# IPython Magic Commands\n",
    "hese magic commands are designed to succinctly solve various common problems in standard data analysis.\n",
    "Magic commands come in two flavors: line magics, which are denoted by a single % prefix and operate on a single line of input, and cell magics, which are denoted by a double %% prefix and operate on multiple lines of input."
   ]
  },
  {
   "cell_type": "code",
   "execution_count": 29,
   "metadata": {},
   "outputs": [],
   "source": [
    "# Pasting Code Blocks: %paste and %cpaste\n",
    "# When you’re working in the IPython interpreter, one common gotcha is that pasting\n",
    "# multiline code blocks can lead to unexpected errors, especially when indentation and\n",
    "# interpreter markers are involved. \n",
    "# IPython’s %paste magic function is designed to handle this exact type of multiline, marked-up input\n",
    "# %paste\n",
    "# A command with a similar intent is %cpaste, which opens up an interactive multiline prompt in \n",
    "# which you can paste one or more chunks of code to be executed in a batch:\n",
    "# %cpaste"
   ]
  },
  {
   "cell_type": "code",
   "execution_count": null,
   "metadata": {},
   "outputs": [],
   "source": [
    "# Running External Code: %run\n",
    "# it can be convenient to run it within your IPython session. This can be done with the %run magic.\n",
    "# %run myscript.py"
   ]
  },
  {
   "cell_type": "code",
   "execution_count": 1,
   "metadata": {},
   "outputs": [
    {
     "name": "stdout",
     "output_type": "stream",
     "text": [
      "290 µs ± 22 µs per loop (mean ± std. dev. of 7 runs, 1,000 loops each)\n"
     ]
    }
   ],
   "source": [
    "# Timing Code Execution: %timeit\n",
    "# It automatically determine the execution time of the single-line Python statement that follows it.\n",
    "%timeit L = [n ** 2 for n in range(1000)]"
   ]
  },
  {
   "cell_type": "code",
   "execution_count": 2,
   "metadata": {},
   "outputs": [
    {
     "name": "stderr",
     "output_type": "stream",
     "text": [
      "UsageError: Line magic function `%%timeit` not found.\n"
     ]
    }
   ],
   "source": [
    "# multiple lines of input.\n",
    "%%timeit L = []\n",
    "for n in range(1000):\n",
    "    L.append(n ** 2)"
   ]
  },
  {
   "cell_type": "code",
   "execution_count": 4,
   "metadata": {},
   "outputs": [],
   "source": [
    "# Help on Magic Functions: ?, %magic, and %lsmagic\n",
    "# Like normal Python functions, IPython magic functions have docstrings, and this\n",
    "# useful documentation can be accessed in the standard manner. \n",
    "%timeit?"
   ]
  },
  {
   "cell_type": "code",
   "execution_count": 5,
   "metadata": {},
   "outputs": [],
   "source": [
    "# To access a general description of available magic functions, including some examples, you can type this:\n",
    "%magic"
   ]
  },
  {
   "cell_type": "code",
   "execution_count": 6,
   "metadata": {},
   "outputs": [
    {
     "data": {
      "application/json": {
       "cell": {
        "!": "OSMagics",
        "HTML": "Other",
        "SVG": "Other",
        "bash": "Other",
        "capture": "ExecutionMagics",
        "cmd": "Other",
        "debug": "ExecutionMagics",
        "file": "Other",
        "html": "DisplayMagics",
        "javascript": "DisplayMagics",
        "js": "DisplayMagics",
        "latex": "DisplayMagics",
        "markdown": "DisplayMagics",
        "perl": "Other",
        "prun": "ExecutionMagics",
        "pypy": "Other",
        "python": "Other",
        "python2": "Other",
        "python3": "Other",
        "ruby": "Other",
        "script": "ScriptMagics",
        "sh": "Other",
        "svg": "DisplayMagics",
        "sx": "OSMagics",
        "system": "OSMagics",
        "time": "ExecutionMagics",
        "timeit": "ExecutionMagics",
        "writefile": "OSMagics"
       },
       "line": {
        "alias": "OSMagics",
        "alias_magic": "BasicMagics",
        "autoawait": "AsyncMagics",
        "autocall": "AutoMagics",
        "automagic": "AutoMagics",
        "autosave": "KernelMagics",
        "bookmark": "OSMagics",
        "cd": "OSMagics",
        "clear": "KernelMagics",
        "cls": "KernelMagics",
        "colors": "BasicMagics",
        "conda": "PackagingMagics",
        "config": "ConfigMagics",
        "connect_info": "KernelMagics",
        "copy": "Other",
        "ddir": "Other",
        "debug": "ExecutionMagics",
        "dhist": "OSMagics",
        "dirs": "OSMagics",
        "doctest_mode": "BasicMagics",
        "echo": "Other",
        "ed": "Other",
        "edit": "KernelMagics",
        "env": "OSMagics",
        "gui": "BasicMagics",
        "hist": "Other",
        "history": "HistoryMagics",
        "killbgscripts": "ScriptMagics",
        "ldir": "Other",
        "less": "KernelMagics",
        "load": "CodeMagics",
        "load_ext": "ExtensionMagics",
        "loadpy": "CodeMagics",
        "logoff": "LoggingMagics",
        "logon": "LoggingMagics",
        "logstart": "LoggingMagics",
        "logstate": "LoggingMagics",
        "logstop": "LoggingMagics",
        "ls": "Other",
        "lsmagic": "BasicMagics",
        "macro": "ExecutionMagics",
        "magic": "BasicMagics",
        "matplotlib": "PylabMagics",
        "mkdir": "Other",
        "more": "KernelMagics",
        "notebook": "BasicMagics",
        "page": "BasicMagics",
        "pastebin": "CodeMagics",
        "pdb": "ExecutionMagics",
        "pdef": "NamespaceMagics",
        "pdoc": "NamespaceMagics",
        "pfile": "NamespaceMagics",
        "pinfo": "NamespaceMagics",
        "pinfo2": "NamespaceMagics",
        "pip": "PackagingMagics",
        "popd": "OSMagics",
        "pprint": "BasicMagics",
        "precision": "BasicMagics",
        "prun": "ExecutionMagics",
        "psearch": "NamespaceMagics",
        "psource": "NamespaceMagics",
        "pushd": "OSMagics",
        "pwd": "OSMagics",
        "pycat": "OSMagics",
        "pylab": "PylabMagics",
        "qtconsole": "KernelMagics",
        "quickref": "BasicMagics",
        "recall": "HistoryMagics",
        "rehashx": "OSMagics",
        "reload_ext": "ExtensionMagics",
        "ren": "Other",
        "rep": "Other",
        "rerun": "HistoryMagics",
        "reset": "NamespaceMagics",
        "reset_selective": "NamespaceMagics",
        "rmdir": "Other",
        "run": "ExecutionMagics",
        "save": "CodeMagics",
        "sc": "OSMagics",
        "set_env": "OSMagics",
        "store": "StoreMagics",
        "sx": "OSMagics",
        "system": "OSMagics",
        "tb": "ExecutionMagics",
        "time": "ExecutionMagics",
        "timeit": "ExecutionMagics",
        "unalias": "OSMagics",
        "unload_ext": "ExtensionMagics",
        "who": "NamespaceMagics",
        "who_ls": "NamespaceMagics",
        "whos": "NamespaceMagics",
        "xdel": "NamespaceMagics",
        "xmode": "BasicMagics"
       }
      },
      "text/plain": [
       "Available line magics:\n",
       "%alias  %alias_magic  %autoawait  %autocall  %automagic  %autosave  %bookmark  %cd  %clear  %cls  %colors  %conda  %config  %connect_info  %copy  %ddir  %debug  %dhist  %dirs  %doctest_mode  %echo  %ed  %edit  %env  %gui  %hist  %history  %killbgscripts  %ldir  %less  %load  %load_ext  %loadpy  %logoff  %logon  %logstart  %logstate  %logstop  %ls  %lsmagic  %macro  %magic  %matplotlib  %mkdir  %more  %notebook  %page  %pastebin  %pdb  %pdef  %pdoc  %pfile  %pinfo  %pinfo2  %pip  %popd  %pprint  %precision  %prun  %psearch  %psource  %pushd  %pwd  %pycat  %pylab  %qtconsole  %quickref  %recall  %rehashx  %reload_ext  %ren  %rep  %rerun  %reset  %reset_selective  %rmdir  %run  %save  %sc  %set_env  %store  %sx  %system  %tb  %time  %timeit  %unalias  %unload_ext  %who  %who_ls  %whos  %xdel  %xmode\n",
       "\n",
       "Available cell magics:\n",
       "%%!  %%HTML  %%SVG  %%bash  %%capture  %%cmd  %%debug  %%file  %%html  %%javascript  %%js  %%latex  %%markdown  %%perl  %%prun  %%pypy  %%python  %%python2  %%python3  %%ruby  %%script  %%sh  %%svg  %%sx  %%system  %%time  %%timeit  %%writefile\n",
       "\n",
       "Automagic is ON, % prefix IS NOT needed for line magics."
      ]
     },
     "execution_count": 6,
     "metadata": {},
     "output_type": "execute_result"
    }
   ],
   "source": [
    "# For a quick and simple list of all available magic functions, type this:\n",
    "%lsmagic"
   ]
  },
  {
   "cell_type": "markdown",
   "metadata": {},
   "source": [
    "# Input and Output History\n",
    "both the shell and the notebook, IPython exposes several ways to obtain\n",
    "the output of previous commands, as well as string versions of the commands them‐\n",
    "selves. "
   ]
  },
  {
   "cell_type": "markdown",
   "metadata": {},
   "source": [
    "# IPython’s In and Out Objects\n",
    "By now I imagine you’re quite familiar with the In[1]:/Out[1]: style prompts used\n",
    "by IPython. But it turns out that these are not just pretty decoration: they give a clue as to how you can access previous inputs and outputs in your current session. Imag‐\n",
    "ine you start a session that looks like this:"
   ]
  },
  {
   "cell_type": "code",
   "execution_count": 8,
   "metadata": {},
   "outputs": [],
   "source": [
    " import math"
   ]
  },
  {
   "cell_type": "code",
   "execution_count": 12,
   "metadata": {},
   "outputs": [
    {
     "data": {
      "text/plain": [
       "0.9092974268256817"
      ]
     },
     "execution_count": 12,
     "metadata": {},
     "output_type": "execute_result"
    }
   ],
   "source": [
    "math.sin(2)\n"
   ]
  },
  {
   "cell_type": "code",
   "execution_count": 13,
   "metadata": {},
   "outputs": [
    {
     "data": {
      "text/plain": [
       "-0.4161468365471424"
      ]
     },
     "execution_count": 13,
     "metadata": {},
     "output_type": "execute_result"
    }
   ],
   "source": [
    "math.cos(2)"
   ]
  },
  {
   "cell_type": "code",
   "execution_count": 14,
   "metadata": {},
   "outputs": [
    {
     "name": "stdout",
     "output_type": "stream",
     "text": [
      "['', \"# Timing Code Execution: %timeit\\n# It automatically determine the execution time of the single-line Python statement that follows it.\\n get_ipython().run_line_magic('timeit', 'L = [n ** 2 for n in range(1000)]')\", \"# Timing Code Execution: %timeit\\n# It automatically determine the execution time of the single-line Python statement that follows it.\\nget_ipython().run_line_magic('timeit', 'L = [n ** 2 for n in range(1000)]')\", \"# For multiline statements, adding a second % sign will turn this into a cell magic that can handle \\n# multiple lines of input.\\nget_ipython().run_line_magic('%timeit', '')\\nL = []\\nfor n in range(1000):\\n    L.append(n ** 2)\", \"# For multiline statements, adding a second % sign will turn this into a cell magic that can handle \\n# multiple lines of input.\\nget_ipython().run_line_magic('timeit', '')\\nL = []\\nfor n in range(1000):\\n    L.append(n ** 2)\", \"# For multiline statements, adding a second % sign will turn this into a cell magic that can handle \\n# multiple lines of input.\\nget_ipython().run_line_magic('%timeit', '')\\nL = []\\nfor n in range(1000):\\n    L.append(n ** 2)\", \"# For multiline statements, adding a second % sign will turn this into a cell magic that can handle \\n# multiple lines of input.\\nget_ipython().run_line_magic('%timeit', 'L = []')\\nfor n in range(1000):\\n    L.append(n ** 2)\", \"# For multiline statements, adding a second % sign will turn this into a cell magic that can handle \\n# multiple lines of input.\\nget_ipython().run_line_magic('timeit', 'L = []')\\nfor n in range(1000):\\n    L.append(n ** 2)\", \"# Help on Magic Functions: ?, %magic, and %lsmagic\\n# Like normal Python functions, IPython magic functions have docstrings, and this\\n# useful documentation can be accessed in the standard manner. \\nget_ipython().run_line_magic('pinfo', '%timeit')\", \"# To access a general description of available magic functions, including some examples, you can type this:\\nget_ipython().run_line_magic('magic', '')\", \"# For a quick and simple list of all available magic functions, type this:\\nget_ipython().run_line_magic('lsmagic', '')\", 'import math', 'math.sin(2)', 'math.cos(2)', '# These inputs and outputs are displayed in the shell with In/Out labels,\\n# but there’s more—IPython actually creates some Python variables called In and Out\\n# that are automatically updated to reflect this history:\\nprint(In)']\n"
     ]
    }
   ],
   "source": [
    "# These inputs and outputs are displayed in the shell with In/Out labels,\n",
    "# but there’s more—IPython actually creates some Python variables called In and Out\n",
    "# that are automatically updated to reflect this history:\n",
    "print(In)"
   ]
  },
  {
   "cell_type": "code",
   "execution_count": 15,
   "metadata": {},
   "outputs": [
    {
     "data": {
      "text/plain": [
       "{10: Available line magics:\n",
       "%alias  %alias_magic  %autoawait  %autocall  %automagic  %autosave  %bookmark  %cd  %clear  %cls  %colors  %conda  %config  %connect_info  %copy  %ddir  %debug  %dhist  %dirs  %doctest_mode  %echo  %ed  %edit  %env  %gui  %hist  %history  %killbgscripts  %ldir  %less  %load  %load_ext  %loadpy  %logoff  %logon  %logstart  %logstate  %logstop  %ls  %lsmagic  %macro  %magic  %matplotlib  %mkdir  %more  %notebook  %page  %pastebin  %pdb  %pdef  %pdoc  %pfile  %pinfo  %pinfo2  %pip  %popd  %pprint  %precision  %prun  %psearch  %psource  %pushd  %pwd  %pycat  %pylab  %qtconsole  %quickref  %recall  %rehashx  %reload_ext  %ren  %rep  %rerun  %reset  %reset_selective  %rmdir  %run  %save  %sc  %set_env  %store  %sx  %system  %tb  %time  %timeit  %unalias  %unload_ext  %who  %who_ls  %whos  %xdel  %xmode\n",
       "\n",
       "Available cell magics:\n",
       "%%!  %%HTML  %%SVG  %%bash  %%capture  %%cmd  %%debug  %%file  %%html  %%javascript  %%js  %%latex  %%markdown  %%perl  %%prun  %%pypy  %%python  %%python2  %%python3  %%ruby  %%script  %%sh  %%svg  %%sx  %%system  %%time  %%timeit  %%writefile\n",
       "\n",
       "Automagic is ON, % prefix IS NOT needed for line magics.,\n",
       " 12: 0.9092974268256817,\n",
       " 13: -0.4161468365471424}"
      ]
     },
     "execution_count": 15,
     "metadata": {},
     "output_type": "execute_result"
    }
   ],
   "source": [
    " Out"
   ]
  },
  {
   "cell_type": "code",
   "execution_count": 16,
   "metadata": {},
   "outputs": [
    {
     "name": "stdout",
     "output_type": "stream",
     "text": [
      "# Timing Code Execution: %timeit\n",
      "# It automatically determine the execution time of the single-line Python statement that follows it.\n",
      " get_ipython().run_line_magic('timeit', 'L = [n ** 2 for n in range(1000)]')\n"
     ]
    }
   ],
   "source": [
    "# The In object is a list, which keeps track of the commands in order (the first item in\n",
    "# the list is a placeholder so that In[1] can refer to the first command):\n",
    "print(In[1])"
   ]
  },
  {
   "cell_type": "code",
   "execution_count": 19,
   "metadata": {},
   "outputs": [
    {
     "name": "stdout",
     "output_type": "stream",
     "text": [
      "Available line magics:\n",
      "%alias  %alias_magic  %autoawait  %autocall  %automagic  %autosave  %bookmark  %cd  %clear  %cls  %colors  %conda  %config  %connect_info  %copy  %ddir  %debug  %dhist  %dirs  %doctest_mode  %echo  %ed  %edit  %env  %gui  %hist  %history  %killbgscripts  %ldir  %less  %load  %load_ext  %loadpy  %logoff  %logon  %logstart  %logstate  %logstop  %ls  %lsmagic  %macro  %magic  %matplotlib  %mkdir  %more  %notebook  %page  %pastebin  %pdb  %pdef  %pdoc  %pfile  %pinfo  %pinfo2  %pip  %popd  %pprint  %precision  %prun  %psearch  %psource  %pushd  %pwd  %pycat  %pylab  %qtconsole  %quickref  %recall  %rehashx  %reload_ext  %ren  %rep  %rerun  %reset  %reset_selective  %rmdir  %run  %save  %sc  %set_env  %store  %sx  %system  %tb  %time  %timeit  %unalias  %unload_ext  %who  %who_ls  %whos  %xdel  %xmode\n",
      "\n",
      "Available cell magics:\n",
      "%%!  %%HTML  %%SVG  %%bash  %%capture  %%cmd  %%debug  %%file  %%html  %%javascript  %%js  %%latex  %%markdown  %%perl  %%prun  %%pypy  %%python  %%python2  %%python3  %%ruby  %%script  %%sh  %%svg  %%sx  %%system  %%time  %%timeit  %%writefile\n",
      "\n",
      "Automagic is ON, % prefix IS NOT needed for line magics.\n"
     ]
    }
   ],
   "source": [
    "# The Out object is not a list but a dictionary mapping input numbers to their outputs\n",
    "# (if any):\n",
    "print(Out[10])"
   ]
  },
  {
   "cell_type": "code",
   "execution_count": 21,
   "metadata": {},
   "outputs": [
    {
     "data": {
      "text/plain": [
       "1.0"
      ]
     },
     "execution_count": 21,
     "metadata": {},
     "output_type": "execute_result"
    }
   ],
   "source": [
    "# Where this can be useful is if you want to interact with past results. For example, let’s\n",
    "# check the sum of sin(2) ** 2 and cos(2) ** 2 using the previously computed results:\n",
    "Out[12] ** 2 + Out[13] ** 2"
   ]
  },
  {
   "cell_type": "code",
   "execution_count": 22,
   "metadata": {},
   "outputs": [
    {
     "name": "stdout",
     "output_type": "stream",
     "text": [
      "1.0\n"
     ]
    }
   ],
   "source": [
    "# The standard Python shell contains just one simple shortcut for accessing previous\n",
    "# output; the variable _ (i.e., a single underscore) is kept updated with the previous out‐\n",
    "# put; this works in IPython as well:\n",
    "print(_)"
   ]
  },
  {
   "cell_type": "code",
   "execution_count": 23,
   "metadata": {},
   "outputs": [
    {
     "name": "stdout",
     "output_type": "stream",
     "text": [
      "-0.4161468365471424\n"
     ]
    }
   ],
   "source": [
    "# But IPython takes this a bit further—you can use a double underscore to access the\n",
    "# second-to-last output, and a triple underscore to access the third-to-last output (skip‐\n",
    "# ping any commands with no output):\n",
    "print(__)"
   ]
  },
  {
   "cell_type": "code",
   "execution_count": 24,
   "metadata": {},
   "outputs": [
    {
     "name": "stdout",
     "output_type": "stream",
     "text": [
      "0.9092974268256817\n"
     ]
    }
   ],
   "source": [
    "print(___)"
   ]
  },
  {
   "cell_type": "code",
   "execution_count": 27,
   "metadata": {},
   "outputs": [
    {
     "data": {
      "text/plain": [
       "0.9092974268256817"
      ]
     },
     "execution_count": 27,
     "metadata": {},
     "output_type": "execute_result"
    }
   ],
   "source": [
    "# There is one more shortcut we should mention, however—a shorthand for Out[X] is\n",
    "# _X (i.e., a single underscore followed by the line number):\n",
    "Out[12]"
   ]
  },
  {
   "cell_type": "code",
   "execution_count": 29,
   "metadata": {},
   "outputs": [
    {
     "data": {
      "text/plain": [
       "0.9092974268256817"
      ]
     },
     "execution_count": 29,
     "metadata": {},
     "output_type": "execute_result"
    }
   ],
   "source": [
    "# this is also the same as above\n",
    "_12"
   ]
  },
  {
   "cell_type": "markdown",
   "metadata": {},
   "source": [
    "# Suppressing Output\n",
    "Sometimes you might wish to suppress the output of a statement (this is perhaps\n",
    "most common with the plotting commands  Or maybe the command you’re executing produces a result that you’d prefer not to store in your output history, perhaps so that it can be deallocated when other references are removed. "
   ]
  },
  {
   "cell_type": "code",
   "execution_count": 10,
   "metadata": {},
   "outputs": [],
   "source": [
    "#  The easiest way to suppress the output of a command is to add a semicolon to the end of the line:\n",
    "math.sin(2) + math.cos(2);"
   ]
  },
  {
   "cell_type": "code",
   "execution_count": 12,
   "metadata": {},
   "outputs": [
    {
     "data": {
      "text/plain": [
       "False"
      ]
     },
     "execution_count": 12,
     "metadata": {},
     "output_type": "execute_result"
    }
   ],
   "source": [
    "# Note that the result is computed silently, and the output is neither displayed on the\n",
    "# screen or stored in the Out dictionary:\n",
    "10 in Out"
   ]
  },
  {
   "cell_type": "code",
   "execution_count": 13,
   "metadata": {},
   "outputs": [
    {
     "name": "stdout",
     "output_type": "stream",
     "text": [
      "   1:\n",
      "# Timing Code Execution: %timeit\n",
      "# It automatically determine the execution time of the single-line Python statement that follows it.\n",
      "%timeit L = [n ** 2 for n in range(1000)]\n",
      "   2:\n",
      "# multiple lines of input.\n",
      "%%timeit L = []\n",
      "for n in range(1000):\n",
      "    L.append(n ** 2)\n",
      "   3:\n",
      "# Help on Magic Functions: ?, %magic, and %lsmagic\n",
      "# Like normal Python functions, IPython magic functions have docstrings, and this\n",
      "# useful documentation can be accessed in the standard manner. \n",
      "%timeit?\n",
      "   4:\n",
      "# Help on Magic Functions: ?, %magic, and %lsmagic\n",
      "# Like normal Python functions, IPython magic functions have docstrings, and this\n",
      "# useful documentation can be accessed in the standard manner. \n",
      "%timeit?\n"
     ]
    }
   ],
   "source": [
    "# For accessing a batch of previous inputs at once, the %history magic command is\n",
    "# very helpful. Here is how you can print the first four inputs:\n",
    "%history -n 1-4"
   ]
  },
  {
   "cell_type": "markdown",
   "metadata": {},
   "source": [
    "# Related Magic Commands\n",
    "As usual, you can type %history? for more information and a description of options\n",
    "available. Other similar magic commands are %rerun (which will re-execute some\n",
    "portion of the command history) and %save (which saves some set of the command\n",
    "history to a file)."
   ]
  },
  {
   "cell_type": "markdown",
   "metadata": {},
   "source": [
    "Thanks for Your time"
   ]
  }
 ],
 "metadata": {
  "kernelspec": {
   "display_name": "Python 3 (ipykernel)",
   "language": "python",
   "name": "python3"
  },
  "language_info": {
   "codemirror_mode": {
    "name": "ipython",
    "version": 3
   },
   "file_extension": ".py",
   "mimetype": "text/x-python",
   "name": "python",
   "nbconvert_exporter": "python",
   "pygments_lexer": "ipython3",
   "version": "3.11.5"
  }
 },
 "nbformat": 4,
 "nbformat_minor": 4
}
